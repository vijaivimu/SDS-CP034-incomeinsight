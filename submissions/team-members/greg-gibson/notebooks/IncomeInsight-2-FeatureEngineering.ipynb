{
 "cells": [
  {
   "cell_type": "markdown",
   "id": "7c2028ec",
   "metadata": {},
   "source": [
    "### CP#34 - IncomeInsight: Predicting Earning Potential from Demographic & Employment Data"
   ]
  },
  {
   "cell_type": "markdown",
   "id": "1153df91",
   "metadata": {},
   "source": [
    "### Feature Engineering Notebook\n",
    "This notebook is used to explore, experiment with, and finalize preprocessing logic before moving it into the reusable `preprocess.py` module."
   ]
  },
  {
   "cell_type": "code",
   "execution_count": 25,
   "id": "664d3f2b",
   "metadata": {},
   "outputs": [],
   "source": [
    "import pandas as pd\n",
    "import matplotlib.pyplot as plt\n",
    "from sklearn.preprocessing import (\n",
    "    OneHotEncoder, \n",
    "    StandardScaler,\n",
    "    MinMaxScaler, \n",
    "    OrdinalEncoder\n",
    ")"
   ]
  },
  {
   "cell_type": "code",
   "execution_count": 26,
   "id": "5410c3bd",
   "metadata": {},
   "outputs": [],
   "source": [
    "df = pd.read_csv('../data/adult_cleaned.csv')"
   ]
  },
  {
   "cell_type": "code",
   "execution_count": 27,
   "id": "87e3ecb7",
   "metadata": {},
   "outputs": [
    {
     "data": {
      "text/plain": [
       "Index(['Unnamed: 0', 'age', 'workclass', 'education', 'education.num',\n",
       "       'marital.status', 'occupation', 'race', 'sex', 'capital.gain',\n",
       "       'hours.per.week', 'native.country', 'income'],\n",
       "      dtype='object')"
      ]
     },
     "execution_count": 27,
     "metadata": {},
     "output_type": "execute_result"
    }
   ],
   "source": [
    "df.columns"
   ]
  },
  {
   "cell_type": "markdown",
   "id": "e5b1709d",
   "metadata": {},
   "source": [
    "### New features"
   ]
  },
  {
   "cell_type": "markdown",
   "id": "084aee31",
   "metadata": {},
   "source": [
    "Binary flags"
   ]
  },
  {
   "cell_type": "code",
   "execution_count": 28,
   "id": "b05d708e",
   "metadata": {},
   "outputs": [],
   "source": [
    "# Binary Feature Prototypes\n",
    "df['sex_binary'] = df['sex'].map({'Male': 1, 'Female': 0})\n",
    "df['income_binary'] = df['income'].map({'>50K': 1, '<=50K': 0})\n",
    "df['has_capital_gain'] = (df['capital.gain'] > 0).astype(int)\n",
    "df['married_together'] = df['marital.status'].map(\n",
    "    lambda x: 1 if x in ['Married-AF-spouse', 'Married-civ-spouse'] else 0)\n",
    "\n",
    "df = df.drop(columns = ['sex', 'income', 'marital.status'])"
   ]
  },
  {
   "cell_type": "markdown",
   "id": "4f79b0c9",
   "metadata": {},
   "source": [
    "Bin education"
   ]
  },
  {
   "cell_type": "code",
   "execution_count": 29,
   "id": "e5277f4a",
   "metadata": {},
   "outputs": [
    {
     "data": {
      "text/plain": [
       "Text(0.5, 1.0, 'Binned Education Levels')"
      ]
     },
     "execution_count": 29,
     "metadata": {},
     "output_type": "execute_result"
    },
    {
     "data": {
      "image/png": "[encoded data removed]",
      "text/plain": [
       "<Figure size 640x480 with 1 Axes>"
      ]
     },
     "metadata": {},
     "output_type": "display_data"
    }
   ],
   "source": [
    "# Binning education.num\n",
    "def bin_education(edu_num):\n",
    "    if edu_num <= 4:\n",
    "        return 'PreHighSchool'\n",
    "    elif edu_num <= 7:\n",
    "        return 'IncompleteHS'\n",
    "    elif edu_num <= 10:\n",
    "        return 'HighSchool'\n",
    "    elif edu_num <= 12:\n",
    "        return 'Associate'\n",
    "    elif edu_num == 13:\n",
    "        return 'Bachelors'\n",
    "    else:\n",
    "        return 'Advanced'\n",
    "\n",
    "df['edu_binned'] = df['education.num'].apply(bin_education)\n",
    "df['edu_binned'].value_counts().plot(kind='bar')\n",
    "plt.title('Binned Education Levels')"
   ]
  },
  {
   "cell_type": "markdown",
   "id": "7fa9c67f",
   "metadata": {},
   "source": [
    "Interaction terms"
   ]
  },
  {
   "cell_type": "code",
   "execution_count": 30,
   "id": "042a8f8e",
   "metadata": {},
   "outputs": [],
   "source": [
    "# Numerical interaction terms\n",
    "df['hours_x_edu'] = df['hours.per.week'] * df['education.num']\n",
    "df['hours_x_age'] = df['hours.per.week'] * df['age']\n",
    "df['capital_x_edu'] = df['capital.gain'] * df['education.num']\n",
    "\n",
    "df = df.drop(columns = ['education.num'])"
   ]
  },
  {
   "cell_type": "markdown",
   "id": "19e9eb94",
   "metadata": {},
   "source": [
    "###Task 2:  Preprocessing with encoding and scaling"
   ]
  },
  {
   "cell_type": "markdown",
   "id": "5900f74b",
   "metadata": {},
   "source": [
    "One hot encoding"
   ]
  },
  {
   "cell_type": "code",
   "execution_count": 31,
   "id": "78f26b21",
   "metadata": {},
   "outputs": [],
   "source": [
    "# exclude income, sex, education, marital.status, and relationship from one-hot encoding\n",
    "remaining_categorical_features = ['race', 'workclass', 'occupation', 'native.country']\n",
    "\n",
    "encoded = pd.get_dummies(df[remaining_categorical_features], drop_first=True)\n",
    "\n",
    "# Drop the original categorical columns\n",
    "df_dropped = df.drop(columns=remaining_categorical_features)\n",
    "\n",
    "# Append the encoded columns\n",
    "df_encoded = pd.concat([df_dropped, encoded], axis=1)"
   ]
  },
  {
   "cell_type": "code",
   "execution_count": 32,
   "id": "78244735",
   "metadata": {},
   "outputs": [],
   "source": [
    "# Ordinal Encoding for education levels\n",
    "df_encoded['edu_binned_ord'] = OrdinalEncoder(\n",
    "    categories=[['PreHighSchool', 'IncompleteHS', 'HighSchool', 'Associate', 'Bachelors', 'Advanced']]\n",
    ").fit_transform(df_encoded[['edu_binned']])\n",
    "\n",
    "df_encoded = df_encoded.drop(columns=['education', 'edu_binned'])"
   ]
  },
  {
   "cell_type": "markdown",
   "id": "4ffc7b9c",
   "metadata": {},
   "source": [
    "Scaling"
   ]
  },
  {
   "cell_type": "code",
   "execution_count": 33,
   "id": "30660ccd",
   "metadata": {},
   "outputs": [],
   "source": [
    "# Scaling normal numerical features\n",
    "from sklearn.preprocessing import StandardScaler, MinMaxScaler\n",
    "scaler = StandardScaler()\n",
    "df_encoded[['age_scaled', 'hours_scaled']] = scaler.fit_transform(df_encoded[['age', 'hours.per.week']])\n",
    "\n",
    "# Scaling skewed numerical features\n",
    "minmax = MinMaxScaler()\n",
    "df_encoded['cap_gain_scaled'] = minmax.fit_transform(df_encoded[['capital.gain']])\n",
    "\n",
    "df_scaled = df_encoded.drop(columns=['age', 'hours.per.week', 'capital.gain'])"
   ]
  },
  {
   "cell_type": "markdown",
   "id": "f6470f7e",
   "metadata": {},
   "source": [
    "Output"
   ]
  },
  {
   "cell_type": "markdown",
   "id": "506d031b",
   "metadata": {},
   "source": [
    "## Final Preprocessing Plan\n",
    "- Binary columns: sex, income, capital gain, married_together\n",
    "- Binning education.num → ordinal encoding\n",
    "- One-hot encode: race, workclass, native.country, etc.\n",
    "- Interaction terms:\n",
    "    - age × hours, hours × edu, capital_gain × edu\n",
    "- Standard scale: age, hours\n",
    "- MinMax scale: capital_gain"
   ]
  },
  {
   "cell_type": "code",
   "execution_count": 37,
   "id": "25fcf540",
   "metadata": {},
   "outputs": [
    {
     "data": {
      "text/plain": [
       "(30162, 75)"
      ]
     },
     "execution_count": 37,
     "metadata": {},
     "output_type": "execute_result"
    }
   ],
   "source": [
    "df_scaled.shape"
   ]
  },
  {
   "cell_type": "code",
   "execution_count": 39,
   "id": "397dc4ad",
   "metadata": {},
   "outputs": [
    {
     "name": "stdout",
     "output_type": "stream",
     "text": [
      "<class 'pandas.core.frame.DataFrame'>\n",
      "RangeIndex: 30162 entries, 0 to 30161\n",
      "Data columns (total 75 columns):\n",
      " #   Column                                     Non-Null Count  Dtype  \n",
      "---  ------                                     --------------  -----  \n",
      " 0   Unnamed: 0                                 30162 non-null  int64  \n",
      " 1   sex_binary                                 30162 non-null  int64  \n",
      " 2   income_binary                              30162 non-null  int64  \n",
      " 3   has_capital_gain                           30162 non-null  int64  \n",
      " 4   married_together                           30162 non-null  int64  \n",
      " 5   hours_x_edu                                30162 non-null  int64  \n",
      " 6   hours_x_age                                30162 non-null  int64  \n",
      " 7   capital_x_edu                              30162 non-null  int64  \n",
      " 8   race_Asian-Pac-Islander                    30162 non-null  bool   \n",
      " 9   race_Black                                 30162 non-null  bool   \n",
      " 10  race_Other                                 30162 non-null  bool   \n",
      " 11  race_White                                 30162 non-null  bool   \n",
      " 12  workclass_Local-gov                        30162 non-null  bool   \n",
      " 13  workclass_Private                          30162 non-null  bool   \n",
      " 14  workclass_Self-emp-inc                     30162 non-null  bool   \n",
      " 15  workclass_Self-emp-not-inc                 30162 non-null  bool   \n",
      " 16  workclass_State-gov                        30162 non-null  bool   \n",
      " 17  workclass_Without-pay                      30162 non-null  bool   \n",
      " 18  occupation_Armed-Forces                    30162 non-null  bool   \n",
      " 19  occupation_Craft-repair                    30162 non-null  bool   \n",
      " 20  occupation_Exec-managerial                 30162 non-null  bool   \n",
      " 21  occupation_Farming-fishing                 30162 non-null  bool   \n",
      " 22  occupation_Handlers-cleaners               30162 non-null  bool   \n",
      " 23  occupation_Machine-op-inspct               30162 non-null  bool   \n",
      " 24  occupation_Other-service                   30162 non-null  bool   \n",
      " 25  occupation_Priv-house-serv                 30162 non-null  bool   \n",
      " 26  occupation_Prof-specialty                  30162 non-null  bool   \n",
      " 27  occupation_Protective-serv                 30162 non-null  bool   \n",
      " 28  occupation_Sales                           30162 non-null  bool   \n",
      " 29  occupation_Tech-support                    30162 non-null  bool   \n",
      " 30  occupation_Transport-moving                30162 non-null  bool   \n",
      " 31  native.country_Canada                      30162 non-null  bool   \n",
      " 32  native.country_China                       30162 non-null  bool   \n",
      " 33  native.country_Columbia                    30162 non-null  bool   \n",
      " 34  native.country_Cuba                        30162 non-null  bool   \n",
      " 35  native.country_Dominican-Republic          30162 non-null  bool   \n",
      " 36  native.country_Ecuador                     30162 non-null  bool   \n",
      " 37  native.country_El-Salvador                 30162 non-null  bool   \n",
      " 38  native.country_England                     30162 non-null  bool   \n",
      " 39  native.country_France                      30162 non-null  bool   \n",
      " 40  native.country_Germany                     30162 non-null  bool   \n",
      " 41  native.country_Greece                      30162 non-null  bool   \n",
      " 42  native.country_Guatemala                   30162 non-null  bool   \n",
      " 43  native.country_Haiti                       30162 non-null  bool   \n",
      " 44  native.country_Holand-Netherlands          30162 non-null  bool   \n",
      " 45  native.country_Honduras                    30162 non-null  bool   \n",
      " 46  native.country_Hong                        30162 non-null  bool   \n",
      " 47  native.country_Hungary                     30162 non-null  bool   \n",
      " 48  native.country_India                       30162 non-null  bool   \n",
      " 49  native.country_Iran                        30162 non-null  bool   \n",
      " 50  native.country_Ireland                     30162 non-null  bool   \n",
      " 51  native.country_Italy                       30162 non-null  bool   \n",
      " 52  native.country_Jamaica                     30162 non-null  bool   \n",
      " 53  native.country_Japan                       30162 non-null  bool   \n",
      " 54  native.country_Laos                        30162 non-null  bool   \n",
      " 55  native.country_Mexico                      30162 non-null  bool   \n",
      " 56  native.country_Nicaragua                   30162 non-null  bool   \n",
      " 57  native.country_Outlying-US(Guam-USVI-etc)  30162 non-null  bool   \n",
      " 58  native.country_Peru                        30162 non-null  bool   \n",
      " 59  native.country_Philippines                 30162 non-null  bool   \n",
      " 60  native.country_Poland                      30162 non-null  bool   \n",
      " 61  native.country_Portugal                    30162 non-null  bool   \n",
      " 62  native.country_Puerto-Rico                 30162 non-null  bool   \n",
      " 63  native.country_Scotland                    30162 non-null  bool   \n",
      " 64  native.country_South                       30162 non-null  bool   \n",
      " 65  native.country_Taiwan                      30162 non-null  bool   \n",
      " 66  native.country_Thailand                    30162 non-null  bool   \n",
      " 67  native.country_Trinadad&Tobago             30162 non-null  bool   \n",
      " 68  native.country_United-States               30162 non-null  bool   \n",
      " 69  native.country_Vietnam                     30162 non-null  bool   \n",
      " 70  native.country_Yugoslavia                  30162 non-null  bool   \n",
      " 71  edu_binned_ord                             30162 non-null  float64\n",
      " 72  age_scaled                                 30162 non-null  float64\n",
      " 73  hours_scaled                               30162 non-null  float64\n",
      " 74  cap_gain_scaled                            30162 non-null  float64\n",
      "dtypes: bool(63), float64(4), int64(8)\n",
      "memory usage: 4.6 MB\n"
     ]
    }
   ],
   "source": [
    "df_scaled.info()"
   ]
  },
  {
   "cell_type": "code",
   "execution_count": null,
   "id": "d2d269aa",
   "metadata": {},
   "outputs": [],
   "source": []
  }
 ],
 "metadata": {
  "kernelspec": {
   "display_name": "venv (3.13.5)",
   "language": "python",
   "name": "python3"
  },
  "language_info": {
   "codemirror_mode": {
    "name": "ipython",
    "version": 3
   },
   "file_extension": ".py",
   "mimetype": "text/x-python",
   "name": "python",
   "nbconvert_exporter": "python",
   "pygments_lexer": "ipython3",
   "version": "3.13.5"
  }
 },
 "nbformat": 4,
 "nbformat_minor": 5
}
